{
  "nbformat": 4,
  "nbformat_minor": 0,
  "metadata": {
    "colab": {
      "name": "pyDS-1.ipynb",
      "provenance": [],
      "authorship_tag": "ABX9TyPgbUGw7KlQOCorwAeQlrt+",
      "include_colab_link": true
    },
    "kernelspec": {
      "name": "python3",
      "display_name": "Python 3"
    }
  },
  "cells": [
    {
      "cell_type": "markdown",
      "metadata": {
        "id": "view-in-github",
        "colab_type": "text"
      },
      "source": [
        "<a href=\"https://colab.research.google.com/github/amit1476/myUbuntuRep/blob/master/pyDS_1.ipynb\" target=\"_parent\"><img src=\"https://colab.research.google.com/assets/colab-badge.svg\" alt=\"Open In Colab\"/></a>"
      ]
    },
    {
      "cell_type": "code",
      "metadata": {
        "id": "6tzsXVKPYdRa",
        "colab_type": "code",
        "colab": {
          "base_uri": "https://localhost:8080/",
          "height": 34
        },
        "outputId": "34353874-d1ac-48f1-8828-97a303c252a0"
      },
      "source": [
        "%timeit sum(range(100))"
      ],
      "execution_count": 3,
      "outputs": [
        {
          "output_type": "stream",
          "text": [
            "1000000 loops, best of 3: 871 ns per loop\n"
          ],
          "name": "stdout"
        }
      ]
    },
    {
      "cell_type": "code",
      "metadata": {
        "id": "Sep15D5FjsAq",
        "colab_type": "code",
        "colab": {
          "base_uri": "https://localhost:8080/",
          "height": 34
        },
        "outputId": "2dbcd45e-7c7a-4785-853d-bd0c85f392b1"
      },
      "source": [
        "%%timeit\n",
        "total = 0\n",
        "for i in range(1000):\n",
        "    for j in range(1000):\n",
        "        total += i * (-1) ** j"
      ],
      "execution_count": 4,
      "outputs": [
        {
          "output_type": "stream",
          "text": [
            "1 loop, best of 3: 321 ms per loop\n"
          ],
          "name": "stdout"
        }
      ]
    },
    {
      "cell_type": "code",
      "metadata": {
        "id": "YeTVYeJuj4mT",
        "colab_type": "code",
        "colab": {
          "base_uri": "https://localhost:8080/",
          "height": 51
        },
        "outputId": "f399191e-fa23-4f72-854a-bda016cb44a4"
      },
      "source": [
        "import random\n",
        "L = [random.random() for i in range(100000)]\n",
        "%timeit L.sort()"
      ],
      "execution_count": 5,
      "outputs": [
        {
          "output_type": "stream",
          "text": [
            "The slowest run took 26.64 times longer than the fastest. This could mean that an intermediate result is being cached.\n",
            "1000 loops, best of 3: 1.27 ms per loop\n"
          ],
          "name": "stdout"
        }
      ]
    },
    {
      "cell_type": "code",
      "metadata": {
        "id": "_oqzfqLZkGpG",
        "colab_type": "code",
        "colab": {}
      },
      "source": [
        ""
      ],
      "execution_count": null,
      "outputs": []
    }
  ]
}