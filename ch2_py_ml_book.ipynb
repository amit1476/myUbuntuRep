{
  "nbformat": 4,
  "nbformat_minor": 0,
  "metadata": {
    "colab": {
      "name": "ch2-py-ml-book.ipynb",
      "provenance": [],
      "authorship_tag": "ABX9TyPx1aUjjlu15NGBM2YJ0dHp",
      "include_colab_link": true
    },
    "kernelspec": {
      "name": "python3",
      "display_name": "Python 3"
    }
  },
  "cells": [
    {
      "cell_type": "markdown",
      "metadata": {
        "id": "view-in-github",
        "colab_type": "text"
      },
      "source": [
        "<a href=\"https://colab.research.google.com/github/amit1476/myUbuntuRep/blob/master/ch2_py_ml_book.ipynb\" target=\"_parent\"><img src=\"https://colab.research.google.com/assets/colab-badge.svg\" alt=\"Open In Colab\"/></a>"
      ]
    },
    {
      "cell_type": "code",
      "metadata": {
        "id": "0QWVPXmBtQms",
        "colab_type": "code",
        "colab": {}
      },
      "source": [
        "def forloop(x, w):\n",
        "  z = 0.\n",
        "  for i in range(len(x)):\n",
        "    z += x[i] * w[i]\n",
        "  return z  \n",
        "\n",
        "# I really need to understand zip function.\n",
        "def listcomprehension(x, w):\n",
        "  return sum(x_i*w_i for x_i, w_i in zip(x, w))\n",
        "\n",
        "\n",
        "def vectorized(x, w):\n",
        "  return x_vec.dot(w_vec)"
      ],
      "execution_count": 2,
      "outputs": []
    },
    {
      "cell_type": "code",
      "metadata": {
        "id": "x11WYGFVytzb",
        "colab_type": "code",
        "colab": {}
      },
      "source": [
        "import numpy as np\n",
        "x, w = np.random.rand(100000), np.random.rand(100000)\n",
        "x_vec, w_vec = np.array(x), np.array(w)"
      ],
      "execution_count": 6,
      "outputs": []
    },
    {
      "cell_type": "code",
      "metadata": {
        "id": "_Lzgdp6byyvo",
        "colab_type": "code",
        "colab": {
          "base_uri": "https://localhost:8080/",
          "height": 34
        },
        "outputId": "c86b3bb2-f49e-4442-b73c-ee682de18068"
      },
      "source": [
        "# for loop\n",
        "%timeit -r 100 -n 10 forloop(x, w)\n",
        "# list comprehensiion\n",
        "%timeit -r 100 -n 10 listcomprehension(x, w)\n",
        "#vectorized approach\n",
        "%timeit -r 100 -n 10 vectorized(x_vec, w_vec)"
      ],
      "execution_count": 11,
      "outputs": [
        {
          "output_type": "stream",
          "text": [
            "10 loops, best of 100: 48.7 ms per loop\n"
          ],
          "name": "stdout"
        }
      ]
    },
    {
      "cell_type": "code",
      "metadata": {
        "id": "WeKeqGEFzdNQ",
        "colab_type": "code",
        "colab": {}
      },
      "source": [
        ""
      ],
      "execution_count": null,
      "outputs": []
    }
  ]
}